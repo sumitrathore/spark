{
 "cells": [
  {
   "cell_type": "markdown",
   "metadata": {},
   "source": [
    "# Analyzing Chicago crime data using Apache Spark.\n",
    "Data Source https://data.cityofchicago.org/Public-Safety/Crimes-2001-to-present/ijzp-q8t2/data\n",
    "We will learn little bit from Spark as well."
   ]
  },
  {
   "cell_type": "markdown",
   "metadata": {},
   "source": [
    "Import SparkSession\n",
    "As of Spark 2.0, we only need to create SparkSession. We can create sparkContext from SparkSession."
   ]
  },
  {
   "cell_type": "code",
   "execution_count": 1,
   "metadata": {},
   "outputs": [],
   "source": [
    "from pyspark.sql import SparkSession"
   ]
  },
  {
   "cell_type": "markdown",
   "metadata": {},
   "source": [
    "Build SparkSession using spark standalone mode.\n",
    "Well, format is staright forward. Only thing to note here is the spark master server url. We can use local, mesos and yarn as well."
   ]
  },
  {
   "cell_type": "code",
   "execution_count": 2,
   "metadata": {},
   "outputs": [],
   "source": [
    "spark = SparkSession.builder.master(\"spark://10.142.0.2:7077\").appName('Analyze Chicago crime data').getOrCreate()"
   ]
  },
  {
   "cell_type": "markdown",
   "metadata": {},
   "source": [
    "Read crime data as parquet file from hdfs location. Use my other notebook csvToParquet.ipynb to convert this crime data from csv to parquet format.\n",
    "\n",
    "spark.read provides many data source apis like csv, avro, parquet,json etc."
   ]
  },
  {
   "cell_type": "code",
   "execution_count": 3,
   "metadata": {},
   "outputs": [],
   "source": [
    "crimeData = spark.read.parquet(\"hdfs://localhost:9000/public/data/crime/parquet\")"
   ]
  },
  {
   "cell_type": "markdown",
   "metadata": {},
   "source": [
    "We are going to use crimeData dataframe a lot. So it is better to cache it in-memory. Simply call call cache() method on this dataframe."
   ]
  },
  {
   "cell_type": "code",
   "execution_count": 4,
   "metadata": {},
   "outputs": [
    {
     "data": {
      "text/plain": [
       "DataFrame[ID: int, CaseNumber: string, Block: string, IUCR: string, PrimaryType: string, Description: string, LocationDescription: string, Arrest: boolean, Domestic: boolean, Beat: int, District: int, Ward: int, CommunityArea: int, FBICode: string, XCoordinate: int, YCoordinate: int, Latitude: double, Longitude: double, ReportedTime: timestamp, UpdatedTime: timestamp]"
      ]
     },
     "execution_count": 4,
     "metadata": {},
     "output_type": "execute_result"
    }
   ],
   "source": [
    "crimeData.cache()"
   ]
  },
  {
   "cell_type": "markdown",
   "metadata": {},
   "source": [
    "Show data. For this we have method called show(). This is the action operation. By default show will display 20 rows only. We can give number of rows as argument as well like show(30) which will show 30 rows."
   ]
  },
  {
   "cell_type": "code",
   "execution_count": 5,
   "metadata": {},
   "outputs": [
    {
     "name": "stdout",
     "output_type": "stream",
     "text": [
      "+--------+----------+--------------------+----+--------------------+--------------------+--------------------+------+--------+----+--------+----+-------------+-------+-----------+-----------+------------+-------------+-------------------+-------------------+\n",
      "|      ID|CaseNumber|               Block|IUCR|         PrimaryType|         Description| LocationDescription|Arrest|Domestic|Beat|District|Ward|CommunityArea|FBICode|XCoordinate|YCoordinate|    Latitude|    Longitude|       ReportedTime|        UpdatedTime|\n",
      "+--------+----------+--------------------+----+--------------------+--------------------+--------------------+------+--------+----+--------+----+-------------+-------+-----------+-----------+------------+-------------+-------------------+-------------------+\n",
      "|10000092|  HY189866|     047XX W OHIO ST|041A|             BATTERY| AGGRAVATED: HANDGUN|              STREET| false|   false|1111|      11|  28|           25|    04B|    1144606|    1903566|41.891398861|-87.744384567|2015-03-18 19:44:00|2018-02-10 15:50:01|\n",
      "|10000094|  HY190059|066XX S MARSHFIEL...|4625|       OTHER OFFENSE|    PAROLE VIOLATION|              STREET|  true|   false| 725|       7|  15|           67|     26|    1166468|    1860715|41.773371528|-87.665319468|2015-03-18 23:00:00|2018-02-10 15:50:01|\n",
      "|10000095|  HY190052|044XX S LAKE PARK...|0486|             BATTERY|DOMESTIC BATTERY ...|           APARTMENT| false|    true| 222|       2|   4|           39|    08B|    1185075|    1875622| 41.81386068|-87.596642837|2015-03-18 22:45:00|2018-02-10 15:50:01|\n",
      "|10000096|  HY190054|051XX S MICHIGAN AVE|0460|             BATTERY|              SIMPLE|           APARTMENT| false|   false| 225|       2|   3|           40|    08B|    1178033|    1870804|41.800802415|-87.622619343|2015-03-18 22:30:00|2018-02-10 15:50:01|\n",
      "|10000097|  HY189976|    047XX W ADAMS ST|031A|             ROBBERY|      ARMED: HANDGUN|            SIDEWALK| false|   false|1113|      11|  28|           25|     03|    1144920|    1898709|41.878064761|-87.743354013|2015-03-18 21:00:00|2018-02-10 15:50:01|\n",
      "|10000098|  HY190032| 049XX S DREXEL BLVD|0460|             BATTERY|              SIMPLE|           APARTMENT| false|   false| 223|       2|   4|           39|    08B|    1183018|    1872537|41.805443345|-87.604283976|2015-03-18 22:00:00|2018-02-10 15:50:01|\n",
      "|10000099|  HY190047|   070XX S MORGAN ST|0486|             BATTERY|DOMESTIC BATTERY ...|           APARTMENT| false|    true| 733|       7|  17|           68|    08B|    1170859|    1858210|41.766402779|-87.649296123|2015-03-18 23:00:00|2018-02-10 15:50:01|\n",
      "|10000100|  HY189988| 042XX S PRAIRIE AVE|0486|             BATTERY|DOMESTIC BATTERY ...|           APARTMENT| false|    true| 213|       2|   3|           38|    08B|    1178746|    1876914|41.817552577|-87.619818523|2015-03-18 21:35:00|2018-02-10 15:50:01|\n",
      "|10000101|  HY190020| 036XX S WOLCOTT AVE|1811|           NARCOTICS|POSS: CANNABIS 30...|              STREET|  true|   false| 912|       9|  11|           59|     18|    1164279|    1880656|41.828138428|-87.672782106|2015-03-18 22:09:00|2018-02-10 15:50:01|\n",
      "|10000104|  HY189964| 097XX S PRAIRIE AVE|0460|             BATTERY|              SIMPLE|RESIDENCE PORCH/H...| false|   false| 511|       5|   6|           49|    08B|    1179637|    1840444| 41.71745472|-87.617663257|2015-03-18 21:25:00|2018-02-10 15:50:01|\n",
      "|10000105|  HY189984|130XX S DR MARTIN...|1320|     CRIMINAL DAMAGE|          TO VEHICLE|PARKING LOT/GARAG...| false|   false| 533|       5|   9|           54|     14|    1180907|    1818839|41.658138493|-87.613672862|2015-03-18 21:30:00|2018-02-10 15:50:01|\n",
      "|10000108|  HY189719|078XX S VINCENNES...|2825|       OTHER OFFENSE|HARASSMENT BY TEL...|CTA GARAGE / OTHE...| false|    true| 623|       6|  17|           69|     26|    1175130|    1853144|41.752406801|-87.633792381|2015-03-15 16:10:00|2018-02-10 15:50:01|\n",
      "|10000109|  HY189966|086XX S EXCHANGE AVE|143A|   WEAPONS VIOLATION|UNLAWFUL POSS OF ...|DRIVEWAY - RESIDE...|  true|   false| 423|       4|  10|           46|     15|    1197309|    1848290|41.738563465|-87.552678593|2015-03-18 21:14:00|2018-02-10 15:50:01|\n",
      "|10000110|  HY190056| 014XX S ASHLAND AVE|0460|             BATTERY|              SIMPLE|            SIDEWALK| false|   false|1233|      12|   2|           28|    08B|    1165950|    1893388| 41.86304084|-87.666288555|2015-03-18 22:50:00|2018-02-10 15:50:01|\n",
      "|10000111|  HY190019| 051XX W CHICAGO AVE|0860|               THEFT|        RETAIL THEFT|         GAS STATION|  true|   false|1531|      15|  37|           25|     06|    1141741|    1904839|41.894945606|-87.754874977|2015-03-18 22:31:00|2018-02-10 15:50:01|\n",
      "|10000112|  HY189725|077XX S KINGSTON AVE|0610|            BURGLARY|      FORCIBLE ENTRY|           APARTMENT| false|   false| 421|       4|   7|           43|     05|    1194535|    1854110|41.754602618|-87.562650741|2015-03-18 12:55:00|2018-02-10 15:50:01|\n",
      "|10000114|  HY190071|   024XX W NORTH AVE|0910| MOTOR VEHICLE THEFT|          AUTOMOBILE|               OTHER| false|   false|1423|      14|   1|           24|     07|    1159959|    1910569|41.910312648|-87.687806494|2015-03-18 20:00:00|2018-02-10 15:50:01|\n",
      "|10000115|  HY190036| 069XX S LOOMIS BLVD|0890|               THEFT|       FROM BUILDING|  GROCERY FOOD STORE| false|   false| 734|       7|  17|           67|     06|    1168192|    1858832|41.768167414|-87.659053795|2015-03-18 21:00:00|2018-02-10 15:50:01|\n",
      "|10000116|  HY190063|105XX S LAFAYETTE...|0470|PUBLIC PEACE VIOL...|    RECKLESS CONDUCT|               ALLEY|  true|   false| 512|       5|  34|           49|     24|    1177790|    1835106| 41.70284845|-87.624588931|2015-03-18 22:56:00|2018-02-10 15:50:01|\n",
      "|10000117|  HY190068| 087XX S KIMBARK AVE|0890|               THEFT|       FROM BUILDING|       BAR OR TAVERN| false|   false| 412|       4|   8|           48|     06|    1186312|    1847473|41.736588206| -87.59299436|2015-03-18 22:45:00|2018-02-10 15:50:01|\n",
      "+--------+----------+--------------------+----+--------------------+--------------------+--------------------+------+--------+----+--------+----+-------------+-------+-----------+-----------+------------+-------------+-------------------+-------------------+\n",
      "only showing top 20 rows\n",
      "\n"
     ]
    }
   ],
   "source": [
    "crimeData.show()"
   ]
  },
  {
   "cell_type": "markdown",
   "metadata": {},
   "source": [
    "Run count on your dataframe."
   ]
  },
  {
   "cell_type": "code",
   "execution_count": 6,
   "metadata": {},
   "outputs": [
    {
     "data": {
      "text/plain": [
       "6586188"
      ]
     },
     "execution_count": 6,
     "metadata": {},
     "output_type": "execute_result"
    }
   ],
   "source": [
    "crimeData.count()"
   ]
  },
  {
   "cell_type": "markdown",
   "metadata": {},
   "source": [
    "Repartition data to 8 partition because I am using 4 cores machine. It is good to have partition in multiple of your number of cores for good performance. But there are other factors as well while deciding on a number.\n",
    "\n",
    "repartition and coalesce are two operations to manage number of partitions. coalesce should be used only when you want to decrease the total number of partitions while repartition can be used any time but repartition is costly operation. So learn about repartiton and coalesce in more detail."
   ]
  },
  {
   "cell_type": "code",
   "execution_count": 7,
   "metadata": {},
   "outputs": [
    {
     "data": {
      "text/plain": [
       "DataFrame[ID: int, CaseNumber: string, Block: string, IUCR: string, PrimaryType: string, Description: string, LocationDescription: string, Arrest: boolean, Domestic: boolean, Beat: int, District: int, Ward: int, CommunityArea: int, FBICode: string, XCoordinate: int, YCoordinate: int, Latitude: double, Longitude: double, ReportedTime: timestamp, UpdatedTime: timestamp]"
      ]
     },
     "execution_count": 7,
     "metadata": {},
     "output_type": "execute_result"
    }
   ],
   "source": [
    "crimeData.repartition(8)"
   ]
  },
  {
   "cell_type": "markdown",
   "metadata": {},
   "source": [
    "Import functions like max, min, count etc."
   ]
  },
  {
   "cell_type": "code",
   "execution_count": 8,
   "metadata": {},
   "outputs": [],
   "source": [
    "from pyspark.sql import functions as F"
   ]
  },
  {
   "cell_type": "markdown",
   "metadata": {},
   "source": [
    "For 2018 we don't have complete data as 2018 is the current year so I am removing records of 2018 from my data.\n",
    "\n",
    "Spark dataframe API gives us filter() operation for filtering data based on some condition. Also year(timestamp) will return year of the timestamp."
   ]
  },
  {
   "cell_type": "code",
   "execution_count": 9,
   "metadata": {},
   "outputs": [],
   "source": [
    "crimeData = crimeData.filter(F.year('ReportedTime') != 2018)"
   ]
  },
  {
   "cell_type": "markdown",
   "metadata": {},
   "source": [
    "First we will calculate how many crimes have been reported in each year.\n",
    "\n",
    "For this we need to group our elements by year and then count. \n",
    "\n",
    "Here we have,\n",
    "\n",
    "groupBy() which will group elements based on one or more fields passed to it.\n",
    "\n",
    "alias() will give an alias to the column.\n",
    "\n",
    "count() will simply count.\n",
    "\n",
    "orderBy() will order the data based on one or more fields passed to it. By default it is in ascending order."
   ]
  },
  {
   "cell_type": "code",
   "execution_count": 10,
   "metadata": {},
   "outputs": [
    {
     "name": "stdout",
     "output_type": "stream",
     "text": [
      "+----+------+\n",
      "|Year| count|\n",
      "+----+------+\n",
      "|2001|485742|\n",
      "|2002|486749|\n",
      "|2003|475929|\n",
      "|2004|469371|\n",
      "|2005|453693|\n",
      "|2006|448086|\n",
      "|2007|436981|\n",
      "|2008|427013|\n",
      "|2009|392628|\n",
      "|2010|370262|\n",
      "|2011|351703|\n",
      "|2012|335855|\n",
      "|2013|306915|\n",
      "|2014|274992|\n",
      "|2015|263694|\n",
      "|2016|268504|\n",
      "|2017|266967|\n",
      "+----+------+\n",
      "\n"
     ]
    }
   ],
   "source": [
    "crimeData.groupBy(F.year('ReportedTime').alias('Year')).count().orderBy('Year').show()"
   ]
  },
  {
   "cell_type": "markdown",
   "metadata": {},
   "source": [
    "If you see the header then one of the most important field is the primary crime type. Here we are calculating how many primary crime type are there in the dataset.\n",
    "\n",
    "select() will select only the mentioned fields from the dataframe. It is like select in the SQL.\n",
    "\n",
    "distincit() will remove the select only the one row from duplicate rows."
   ]
  },
  {
   "cell_type": "code",
   "execution_count": 11,
   "metadata": {},
   "outputs": [
    {
     "data": {
      "text/plain": [
       "35"
      ]
     },
     "execution_count": 11,
     "metadata": {},
     "output_type": "execute_result"
    }
   ],
   "source": [
    "crimeData.select('PrimaryType').distinct().count()"
   ]
  },
  {
   "cell_type": "markdown",
   "metadata": {},
   "source": [
    "Lets find the name of each type. In case you are wondering why I am using show like show(35,False) because 35 is the number of distinct primary crime type and False because I want spark to adjust column width to longest string name."
   ]
  },
  {
   "cell_type": "code",
   "execution_count": 12,
   "metadata": {},
   "outputs": [
    {
     "name": "stdout",
     "output_type": "stream",
     "text": [
      "+---------------------------------+\n",
      "|PrimaryType                      |\n",
      "+---------------------------------+\n",
      "|OFFENSE INVOLVING CHILDREN       |\n",
      "|STALKING                         |\n",
      "|PUBLIC PEACE VIOLATION           |\n",
      "|OBSCENITY                        |\n",
      "|NON-CRIMINAL (SUBJECT SPECIFIED) |\n",
      "|ARSON                            |\n",
      "|DOMESTIC VIOLENCE                |\n",
      "|GAMBLING                         |\n",
      "|CRIMINAL TRESPASS                |\n",
      "|ASSAULT                          |\n",
      "|NON - CRIMINAL                   |\n",
      "|LIQUOR LAW VIOLATION             |\n",
      "|MOTOR VEHICLE THEFT              |\n",
      "|THEFT                            |\n",
      "|BATTERY                          |\n",
      "|ROBBERY                          |\n",
      "|HOMICIDE                         |\n",
      "|RITUALISM                        |\n",
      "|PUBLIC INDECENCY                 |\n",
      "|CRIM SEXUAL ASSAULT              |\n",
      "|HUMAN TRAFFICKING                |\n",
      "|INTIMIDATION                     |\n",
      "|PROSTITUTION                     |\n",
      "|DECEPTIVE PRACTICE               |\n",
      "|CONCEALED CARRY LICENSE VIOLATION|\n",
      "|SEX OFFENSE                      |\n",
      "|CRIMINAL DAMAGE                  |\n",
      "|NARCOTICS                        |\n",
      "|NON-CRIMINAL                     |\n",
      "|OTHER OFFENSE                    |\n",
      "|KIDNAPPING                       |\n",
      "|BURGLARY                         |\n",
      "|WEAPONS VIOLATION                |\n",
      "|OTHER NARCOTIC VIOLATION         |\n",
      "|INTERFERENCE WITH PUBLIC OFFICER |\n",
      "+---------------------------------+\n",
      "\n"
     ]
    }
   ],
   "source": [
    "crimeData.select('PrimaryType').distinct().show(35, False)"
   ]
  },
  {
   "cell_type": "markdown",
   "metadata": {},
   "source": [
    "Another field that I found interesting is Location Description. So I found how many crimes were committed based on each location. We can see in the result that Steert, residence are the most unsafe places.\n",
    "\n",
    "Here we want the list in decending order of total number of cases and hence we are passing ascending=False to orderBy()."
   ]
  },
  {
   "cell_type": "code",
   "execution_count": 13,
   "metadata": {},
   "outputs": [
    {
     "name": "stdout",
     "output_type": "stream",
     "text": [
      "+------------------------------+-------+\n",
      "|LocationDescription           |count  |\n",
      "+------------------------------+-------+\n",
      "|STREET                        |1719290|\n",
      "|RESIDENCE                     |1103634|\n",
      "|APARTMENT                     |667663 |\n",
      "|SIDEWALK                      |646701 |\n",
      "|OTHER                         |247040 |\n",
      "|PARKING LOT/GARAGE(NON.RESID.)|187034 |\n",
      "|ALLEY                         |146470 |\n",
      "|SCHOOL, PUBLIC, BUILDING      |139295 |\n",
      "|RESIDENCE-GARAGE              |128145 |\n",
      "|RESIDENCE PORCH/HALLWAY       |114000 |\n",
      "|SMALL RETAIL STORE            |112943 |\n",
      "|VEHICLE NON-COMMERCIAL        |103914 |\n",
      "|RESTAURANT                    |99267  |\n",
      "|GROCERY FOOD STORE            |84291  |\n",
      "|DEPARTMENT STORE              |79655  |\n",
      "|GAS STATION                   |68741  |\n",
      "|RESIDENTIAL YARD (FRONT/BACK) |64893  |\n",
      "|CHA PARKING LOT/GROUNDS       |54984  |\n",
      "|PARK PROPERTY                 |50659  |\n",
      "|COMMERCIAL / BUSINESS OFFICE  |47681  |\n",
      "+------------------------------+-------+\n",
      "only showing top 20 rows\n",
      "\n"
     ]
    }
   ],
   "source": [
    "crimeData.groupBy('LocationDescription').count().orderBy('count',ascending=False).show(20, False)"
   ]
  },
  {
   "cell_type": "markdown",
   "metadata": {},
   "source": [
    "But what kind of crimes were commmitted on these location. So next thing is to find number of crimes per location per crime type.\n",
    "\n",
    "Simply pass PrimaryType as second argument to groupBy()"
   ]
  },
  {
   "cell_type": "code",
   "execution_count": 14,
   "metadata": {},
   "outputs": [
    {
     "name": "stdout",
     "output_type": "stream",
     "text": [
      "+------------------------------+-------------------+------+\n",
      "|LocationDescription           |PrimaryType        |count |\n",
      "+------------------------------+-------------------+------+\n",
      "|STREET                        |THEFT              |375330|\n",
      "|STREET                        |CRIMINAL DAMAGE    |270028|\n",
      "|STREET                        |NARCOTICS          |249071|\n",
      "|RESIDENCE                     |BATTERY            |248682|\n",
      "|STREET                        |MOTOR VEHICLE THEFT|241949|\n",
      "|APARTMENT                     |BATTERY            |232683|\n",
      "|SIDEWALK                      |NARCOTICS          |219514|\n",
      "|STREET                        |BATTERY            |212732|\n",
      "|RESIDENCE                     |OTHER OFFENSE      |187422|\n",
      "|SIDEWALK                      |BATTERY            |176715|\n",
      "|RESIDENCE                     |THEFT              |144477|\n",
      "|RESIDENCE                     |CRIMINAL DAMAGE    |141730|\n",
      "|RESIDENCE                     |BURGLARY           |129608|\n",
      "|APARTMENT                     |BURGLARY           |108042|\n",
      "|STREET                        |ASSAULT            |83420 |\n",
      "|OTHER                         |THEFT              |78528 |\n",
      "|STREET                        |ROBBERY            |76356 |\n",
      "|SIDEWALK                      |ROBBERY            |76206 |\n",
      "|APARTMENT                     |CRIMINAL DAMAGE    |76018 |\n",
      "|PARKING LOT/GARAGE(NON.RESID.)|THEFT              |69545 |\n",
      "+------------------------------+-------------------+------+\n",
      "only showing top 20 rows\n",
      "\n"
     ]
    }
   ],
   "source": [
    "crimeData.groupBy('LocationDescription','PrimaryType').count().orderBy('count',ascending=False).show(20, False)"
   ]
  },
  {
   "cell_type": "markdown",
   "metadata": {},
   "source": [
    "Now we need to find what crime types are most common.\n",
    "\n",
    "Here we will use agg() instead of count(). agg() will let us do many operations like finding maximum, minimum, sum and more.\n",
    "\n",
    "Syntax: agg(max()) or agg(sum())"
   ]
  },
  {
   "cell_type": "code",
   "execution_count": 15,
   "metadata": {},
   "outputs": [
    {
     "name": "stdout",
     "output_type": "stream",
     "text": [
      "+-------------------+-------+\n",
      "|PrimaryType        |Total  |\n",
      "+-------------------+-------+\n",
      "|THEFT              |1361972|\n",
      "|BATTERY            |1188562|\n",
      "|CRIMINAL DAMAGE    |747161 |\n",
      "|NARCOTICS          |699598 |\n",
      "|OTHER OFFENSE      |403641 |\n",
      "|ASSAULT            |400642 |\n",
      "|BURGLARY           |377828 |\n",
      "|MOTOR VEHICLE THEFT|305659 |\n",
      "|ROBBERY            |247260 |\n",
      "|DECEPTIVE PRACTICE |245842 |\n",
      "+-------------------+-------+\n",
      "only showing top 10 rows\n",
      "\n"
     ]
    }
   ],
   "source": [
    "topPrimaryType = crimeData.groupBy('PrimaryType').agg(F.count('*').alias('Total')).orderBy('Total',ascending=False)\n",
    "topPrimaryType.show(10, False)"
   ]
  },
  {
   "cell_type": "markdown",
   "metadata": {},
   "source": [
    "But I wanted to see how many arrests have been made in each crime type.\n",
    "\n",
    "For this we will filter data where Arrest is true and then run groupBy on PrimaryType to get the count."
   ]
  },
  {
   "cell_type": "code",
   "execution_count": 16,
   "metadata": {},
   "outputs": [
    {
     "name": "stdout",
     "output_type": "stream",
     "text": [
      "+------------------+------+\n",
      "|PrimaryType       |Arrest|\n",
      "+------------------+------+\n",
      "|NARCOTICS         |695378|\n",
      "|BATTERY           |271890|\n",
      "|THEFT             |163909|\n",
      "|CRIMINAL TRESPASS |138302|\n",
      "|ASSAULT           |93883 |\n",
      "|OTHER OFFENSE     |71578 |\n",
      "|PROSTITUTION      |67430 |\n",
      "|CRIMINAL DAMAGE   |52980 |\n",
      "|WEAPONS VIOLATION |52916 |\n",
      "|DECEPTIVE PRACTICE|43348 |\n",
      "+------------------+------+\n",
      "only showing top 10 rows\n",
      "\n"
     ]
    }
   ],
   "source": [
    "topPrimaryTypeArrest = crimeData.filter(crimeData['Arrest'] == True).groupBy('PrimaryType').agg(F.count('*').alias('Arrest')).orderBy('Arrest',ascending=False)\n",
    "topPrimaryTypeArrest.show(10, False)"
   ]
  },
  {
   "cell_type": "markdown",
   "metadata": {},
   "source": [
    "Well we can understand this. Narcotics is the highest priority from the Chicago crime department."
   ]
  },
  {
   "cell_type": "markdown",
   "metadata": {},
   "source": [
    "But we can't really say that Narcotics is the priority untill we find how many cases were reported and how many arrests were made.\n",
    "\n",
    "In my previous two cells, first I find the total number of cases for each crime type and then I find total number of cases where arrests were made for each crime type. For getting the percentage of arrests we need both of these columns. So we will simply join our two dataframes on 'PrimaryType' and the get the percenatge.\n",
    "\n",
    "col() will let me perform operations on values of individual rows."
   ]
  },
  {
   "cell_type": "code",
   "execution_count": 17,
   "metadata": {},
   "outputs": [
    {
     "name": "stdout",
     "output_type": "stream",
     "text": [
      "+---------------------------------+------+------+-----------------+\n",
      "|PrimaryType                      |Total |Arrest|ArrestPercentage |\n",
      "+---------------------------------+------+------+-----------------+\n",
      "|DOMESTIC VIOLENCE                |1     |1     |100.0            |\n",
      "|PROSTITUTION                     |67697 |67430 |99.60559552121954|\n",
      "|NARCOTICS                        |699598|695378|99.39679644595897|\n",
      "|PUBLIC INDECENCY                 |150   |149   |99.33333333333333|\n",
      "|GAMBLING                         |14226 |14122 |99.26894418670041|\n",
      "|LIQUOR LAW VIOLATION             |13815 |13690 |99.09518639160333|\n",
      "|INTERFERENCE WITH PUBLIC OFFICER |13989 |12792 |91.44327686039031|\n",
      "|CONCEALED CARRY LICENSE VIOLATION|154   |139   |90.25974025974025|\n",
      "|OBSCENITY                        |503   |416   |82.7037773359841 |\n",
      "|WEAPONS VIOLATION                |65924 |52916 |80.26818760997513|\n",
      "+---------------------------------+------+------+-----------------+\n",
      "only showing top 10 rows\n",
      "\n"
     ]
    }
   ],
   "source": [
    "topPrimaryType.join(topPrimaryTypeArrest, topPrimaryType.PrimaryType ==topPrimaryTypeArrest.PrimaryType).select(topPrimaryTypeArrest['PrimaryType'],'Total','Arrest', (F.col('Arrest')/F.col('Total')*100).alias('ArrestPercentage')).orderBy('ArrestPercentage',ascending=0).show(10,False)"
   ]
  },
  {
   "cell_type": "markdown",
   "metadata": {},
   "source": [
    "Yeah. So it is prostitution and narcotics. And see theft is not in top 10 list. This makes sense as most thiefs run away before one can report crime. "
   ]
  },
  {
   "cell_type": "markdown",
   "metadata": {},
   "source": [
    "But what are the crime types where least number of arrest happens."
   ]
  },
  {
   "cell_type": "code",
   "execution_count": 18,
   "metadata": {},
   "outputs": [
    {
     "name": "stdout",
     "output_type": "stream",
     "text": [
      "+-------------------+-------+------+------------------+\n",
      "|PrimaryType        |Total  |Arrest|ArrestPercentage  |\n",
      "+-------------------+-------+------+------------------+\n",
      "|BURGLARY           |377828 |21716 |5.747588849952889 |\n",
      "|NON-CRIMINAL       |131    |8     |6.106870229007633 |\n",
      "|CRIMINAL DAMAGE    |747161 |52980 |7.090841197546446 |\n",
      "|MOTOR VEHICLE THEFT|305659 |28202 |9.226621823666243 |\n",
      "|ROBBERY            |247260 |24130 |9.758958181671115 |\n",
      "|KIDNAPPING         |6516   |733   |11.249232658072437|\n",
      "|THEFT              |1361972|163909|12.034682063948452|\n",
      "|RITUALISM          |23     |3     |13.043478260869565|\n",
      "|ARSON              |10834  |1425  |13.153036736200848|\n",
      "|HUMAN TRAFFICKING  |36     |5     |13.88888888888889 |\n",
      "+-------------------+-------+------+------------------+\n",
      "only showing top 10 rows\n",
      "\n"
     ]
    }
   ],
   "source": [
    "topPrimaryType.join(topPrimaryTypeArrest, topPrimaryType.PrimaryType ==topPrimaryTypeArrest.PrimaryType).select(topPrimaryTypeArrest['PrimaryType'],'Total','Arrest', (F.col('Arrest')/F.col('Total')*100).alias('ArrestPercentage')).orderBy('ArrestPercentage',ascending=1).show(10,False)"
   ]
  },
  {
   "cell_type": "markdown",
   "metadata": {},
   "source": [
    "Burglary, robbery, theft are there but what I don't like is to see kidnapping also. I think kidnapping should get more priority."
   ]
  },
  {
   "cell_type": "markdown",
   "metadata": {},
   "source": [
    "But whether Chicago or any other part of the world, crime related to sex are there in all places. I wanted to see what is the arrest percentage in crimes related to sex.\n",
    "\n",
    "For this I will simply put filter before selecting in my query.\n",
    "\n",
    "I am using like() here which just like SQL let me do pattern matching."
   ]
  },
  {
   "cell_type": "code",
   "execution_count": 19,
   "metadata": {},
   "outputs": [
    {
     "name": "stdout",
     "output_type": "stream",
     "text": [
      "+-------------------+-----+------+------------------+\n",
      "|PrimaryType        |Total|Arrest|ArrestPercentage  |\n",
      "+-------------------+-----+------+------------------+\n",
      "|CRIM SEXUAL ASSAULT|25614|4110  |16.04591239166081 |\n",
      "|SEX OFFENSE        |24073|7527  |31.267395006854155|\n",
      "+-------------------+-----+------+------------------+\n",
      "\n"
     ]
    }
   ],
   "source": [
    "topPrimaryType.join(topPrimaryTypeArrest, topPrimaryType.PrimaryType ==topPrimaryTypeArrest.PrimaryType).filter(topPrimaryTypeArrest['PrimaryType'].like('%SEX%')).select(topPrimaryTypeArrest['PrimaryType'],'Total','Arrest', (F.col('Arrest')/F.col('Total')*100).alias('ArrestPercentage')).show(10,False)"
   ]
  },
  {
   "cell_type": "markdown",
   "metadata": {},
   "source": [
    "I don't have much knowledge about how law works in Chicago so I can't comment if this number is good or bad."
   ]
  },
  {
   "cell_type": "markdown",
   "metadata": {},
   "source": [
    "Next this is to find the blocks with maximum cases of crime."
   ]
  },
  {
   "cell_type": "code",
   "execution_count": 20,
   "metadata": {},
   "outputs": [
    {
     "name": "stdout",
     "output_type": "stream",
     "text": [
      "+-------------------------+-------------+-----+\n",
      "|Block                    |PrimaryType  |Total|\n",
      "+-------------------------+-------------+-----+\n",
      "|001XX N STATE ST         |THEFT        |8085 |\n",
      "|076XX S CICERO AVE       |THEFT        |6677 |\n",
      "|0000X N STATE ST         |THEFT        |6387 |\n",
      "|008XX N MICHIGAN AVE     |THEFT        |6169 |\n",
      "|100XX W OHARE ST         |THEFT        |5241 |\n",
      "|100XX W OHARE ST         |OTHER OFFENSE|2568 |\n",
      "|001XX W 87TH ST          |THEFT        |2408 |\n",
      "|046XX W NORTH AVE        |THEFT        |2384 |\n",
      "|033XX W FILLMORE ST      |NARCOTICS    |2351 |\n",
      "|085XX S COTTAGE GROVE AVE|THEFT        |2225 |\n",
      "+-------------------------+-------------+-----+\n",
      "only showing top 10 rows\n",
      "\n"
     ]
    }
   ],
   "source": [
    "topBlock = crimeData.groupBy('Block','PrimaryType').agg(F.count('*').alias('Total')).orderBy('Total',ascending=False)\n",
    "topBlock.show(10, False)"
   ]
  },
  {
   "cell_type": "markdown",
   "metadata": {},
   "source": [
    "Again I want to see the arrest percentage."
   ]
  },
  {
   "cell_type": "code",
   "execution_count": 21,
   "metadata": {},
   "outputs": [
    {
     "name": "stdout",
     "output_type": "stream",
     "text": [
      "+--------------------+------------------+------+\n",
      "|Block               |PrimaryType       |Arrest|\n",
      "+--------------------+------------------+------+\n",
      "|001XX N STATE ST    |THEFT             |5049  |\n",
      "|0000X N STATE ST    |THEFT             |3851  |\n",
      "|076XX S CICERO AVE  |THEFT             |3657  |\n",
      "|008XX N MICHIGAN AVE|THEFT             |2719  |\n",
      "|033XX W FILLMORE ST |NARCOTICS         |2333  |\n",
      "|046XX W NORTH AVE   |THEFT             |1860  |\n",
      "|040XX W LAKE ST     |DECEPTIVE PRACTICE|1714  |\n",
      "|005XX E BROWNING AVE|NARCOTICS         |1695  |\n",
      "|023XX S STATE ST    |CRIMINAL TRESPASS |1657  |\n",
      "|008XX N STATE ST    |DECEPTIVE PRACTICE|1619  |\n",
      "+--------------------+------------------+------+\n",
      "only showing top 10 rows\n",
      "\n"
     ]
    }
   ],
   "source": [
    "topBlockArrest = crimeData.filter(crimeData['Arrest'] == True).groupBy('Block','PrimaryType').agg(F.count('*').alias('Arrest')).orderBy('Arrest',ascending=False)\n",
    "topBlockArrest.show(10, False)"
   ]
  },
  {
   "cell_type": "code",
   "execution_count": 22,
   "metadata": {},
   "outputs": [
    {
     "name": "stdout",
     "output_type": "stream",
     "text": [
      "+-------------------------+------------------+-----+------+-----------------+\n",
      "|Block                    |PrimaryType       |Total|Arrest|ArrestPercentage |\n",
      "+-------------------------+------------------+-----+------+-----------------+\n",
      "|044XX S FEDERAL ST       |NARCOTICS         |1107 |1107  |100.0            |\n",
      "|051XX W MADISON ST       |NARCOTICS         |1077 |1077  |100.0            |\n",
      "|036XX S FEDERAL ST       |NARCOTICS         |1128 |1127  |99.91134751773049|\n",
      "|039XX W GRENSHAW ST      |NARCOTICS         |1052 |1049  |99.7148288973384 |\n",
      "|038XX W ROOSEVELT RD     |NARCOTICS         |1459 |1450  |99.38313913639479|\n",
      "|005XX E BROWNING AVE     |NARCOTICS         |1706 |1695  |99.35521688159437|\n",
      "|033XX W FILLMORE ST      |NARCOTICS         |2351 |2333  |99.23436835389197|\n",
      "|023XX S STATE ST         |NARCOTICS         |1224 |1211  |98.93790849673204|\n",
      "|029XX S STATE ST         |NARCOTICS         |1126 |1114  |98.93428063943162|\n",
      "|027XX S DEARBORN ST      |NARCOTICS         |1061 |1042  |98.20923656927427|\n",
      "|012XX S WABASH AVE       |CRIMINAL TRESPASS |1041 |989   |95.00480307396734|\n",
      "|040XX W LAKE ST          |DECEPTIVE PRACTICE|1828 |1714  |93.7636761487965 |\n",
      "|022XX S STATE ST         |CRIMINAL TRESPASS |1583 |1384  |87.4289324068225 |\n",
      "|100XX W OHARE ST         |CRIMINAL TRESPASS |1811 |1547  |85.42241855328547|\n",
      "|083XX S STEWART AVE      |THEFT             |1129 |901   |79.80513728963685|\n",
      "|013XX S CANAL ST         |THEFT             |1532 |1218  |79.50391644908616|\n",
      "|023XX S STATE ST         |CRIMINAL TRESPASS |2100 |1657  |78.9047619047619 |\n",
      "|046XX W NORTH AVE        |THEFT             |2384 |1860  |78.02013422818791|\n",
      "|008XX N STATE ST         |DECEPTIVE PRACTICE|2091 |1619  |77.42706838833094|\n",
      "|032XX W ROOSEVELT RD     |THEFT             |1587 |1213  |76.43352236925016|\n",
      "|021XX E 71ST ST          |THEFT             |1491 |1110  |74.44668008048289|\n",
      "|043XX N SHERIDAN RD      |THEFT             |1057 |767   |72.56385998107852|\n",
      "|060XX N BROADWAY         |THEFT             |1213 |851   |70.15663643858203|\n",
      "|053XX N BROADWAY         |THEFT             |1108 |767   |69.22382671480143|\n",
      "|017XX W HOWARD ST        |THEFT             |1864 |1277  |68.50858369098712|\n",
      "|012XX S ASHLAND AVE      |THEFT             |1284 |851   |66.27725856697819|\n",
      "|045XX S DAMEN AVE        |THEFT             |1122 |729   |64.97326203208557|\n",
      "|052XX N SHERIDAN RD      |THEFT             |1058 |684   |64.65028355387523|\n",
      "|047XX W IRVING PARK RD   |THEFT             |1503 |966   |64.27145708582835|\n",
      "|085XX S COTTAGE GROVE AVE|THEFT             |2225 |1422  |63.91011235955057|\n",
      "+-------------------------+------------------+-----+------+-----------------+\n",
      "only showing top 30 rows\n",
      "\n"
     ]
    }
   ],
   "source": [
    "topBlock.join(topBlockArrest, ['Block','PrimaryType']).filter(topBlock['Total'] > 1000).select('Block','PrimaryType','Total','Arrest', (F.col('Arrest')/F.col('Total')*100).alias('ArrestPercentage')).orderBy('ArrestPercentage',ascending=0).show(30,False)"
   ]
  },
  {
   "cell_type": "markdown",
   "metadata": {},
   "source": [
    "As expected, Narcotics."
   ]
  },
  {
   "cell_type": "code",
   "execution_count": 23,
   "metadata": {},
   "outputs": [
    {
     "name": "stdout",
     "output_type": "stream",
     "text": [
      "+-----------------------------------+------------------+-----+------+------------------+\n",
      "|Block                              |PrimaryType       |Total|Arrest|ArrestPercentage  |\n",
      "+-----------------------------------+------------------+-----+------+------------------+\n",
      "|100XX W OHARE ST                   |OTHER OFFENSE     |2568 |91    |3.543613707165109 |\n",
      "|0000X N MICHIGAN AVE               |THEFT             |1024 |39    |3.80859375        |\n",
      "|001XX E WACKER DR                  |THEFT             |1078 |47    |4.3599257884972165|\n",
      "|002XX N MICHIGAN AVE               |THEFT             |1021 |64    |6.268364348677767 |\n",
      "|051XX S PULASKI RD                 |THEFT             |1044 |66    |6.321839080459771 |\n",
      "|057XX S CICERO AVE                 |THEFT             |1264 |83    |6.5664556962025316|\n",
      "|100XX W OHARE ST                   |THEFT             |5241 |359   |6.849837817210457 |\n",
      "|006XX E GRAND AVE                  |THEFT             |1326 |91    |6.862745098039216 |\n",
      "|0000X E JACKSON BLVD               |THEFT             |1155 |88    |7.6190476190476195|\n",
      "|009XX W BELMONT AVE                |THEFT             |1053 |101   |9.591642924976258 |\n",
      "|0000X W TERMINAL ST                |THEFT             |1645 |166   |10.091185410334347|\n",
      "|005XX N MICHIGAN AVE               |THEFT             |1761 |285   |16.183986371379895|\n",
      "|005XX N STATE ST                   |THEFT             |1210 |201   |16.611570247933884|\n",
      "|064XX W FULLERTON AVE              |THEFT             |1214 |233   |19.192751235584844|\n",
      "|012XX N CLARK ST                   |THEFT             |1166 |258   |22.126929674099486|\n",
      "|006XX N MICHIGAN AVE               |THEFT             |2151 |478   |22.22222222222222 |\n",
      "|011XX S CANAL ST                   |THEFT             |1503 |339   |22.55489021956088 |\n",
      "|063XX S DR MARTIN LUTHER KING JR DR|BATTERY           |1147 |260   |22.667829119442022|\n",
      "|064XX S DR MARTIN LUTHER KING JR DR|BATTERY           |1352 |313   |23.150887573964496|\n",
      "|009XX N MICHIGAN AVE               |THEFT             |1778 |437   |24.578177727784027|\n",
      "|100XX W OHARE ST                   |DECEPTIVE PRACTICE|1387 |399   |28.767123287671232|\n",
      "|0000X E GRAND AVE                  |THEFT             |1558 |569   |36.5211810012837  |\n",
      "|075XX S STONY ISLAND AVE           |THEFT             |1499 |589   |39.29286190793862 |\n",
      "|001XX S STATE ST                   |THEFT             |1019 |422   |41.41315014720314 |\n",
      "|031XX N CLARK ST                   |THEFT             |1455 |635   |43.6426116838488  |\n",
      "|008XX N MICHIGAN AVE               |THEFT             |6169 |2719  |44.0752147835954  |\n",
      "|001XX N STATE ST                   |DECEPTIVE PRACTICE|1514 |747   |49.339498018494055|\n",
      "|070XX S PULASKI RD                 |THEFT             |1016 |512   |50.39370078740157 |\n",
      "|001XX W 87TH ST                    |THEFT             |2408 |1226  |50.91362126245848 |\n",
      "|026XX N ELSTON AVE                 |THEFT             |2140 |1146  |53.55140186915888 |\n",
      "+-----------------------------------+------------------+-----+------+------------------+\n",
      "only showing top 30 rows\n",
      "\n"
     ]
    }
   ],
   "source": [
    "topBlock.join(topBlockArrest, ['Block','PrimaryType']).filter(topBlock['Total'] > 1000).select('Block','PrimaryType','Total','Arrest', (F.col('Arrest')/F.col('Total')*100).alias('ArrestPercentage')).orderBy('ArrestPercentage',ascending=1).show(30,False)"
   ]
  },
  {
   "cell_type": "markdown",
   "metadata": {},
   "source": [
    "And of course a clear winner here as well."
   ]
  },
  {
   "cell_type": "markdown",
   "metadata": {},
   "source": [
    "But what blocks reported maximum cases related to sexual offence."
   ]
  },
  {
   "cell_type": "code",
   "execution_count": 24,
   "metadata": {},
   "outputs": [
    {
     "name": "stdout",
     "output_type": "stream",
     "text": [
      "+--------------------+-------------------+-----+\n",
      "|               Block|        PrimaryType|Total|\n",
      "+--------------------+-------------------+-----+\n",
      "|  044XX N SIMONDS DR|        SEX OFFENSE|   76|\n",
      "|    004XX S STATE ST|        SEX OFFENSE|   58|\n",
      "|031XX W DOUGLAS BLVD|        SEX OFFENSE|   49|\n",
      "|   012XX S DAMEN AVE|        SEX OFFENSE|   44|\n",
      "|011XX S HAMILTON AVE|        SEX OFFENSE|   35|\n",
      "|    100XX W OHARE ST|        SEX OFFENSE|   35|\n",
      "|    002XX E HURON ST|CRIM SEXUAL ASSAULT|   33|\n",
      "|063XX S DR MARTIN...|CRIM SEXUAL ASSAULT|   30|\n",
      "| 009XX W BELMONT AVE|        SEX OFFENSE|   30|\n",
      "|003XX W MONTROSE ...|        SEX OFFENSE|   27|\n",
      "|    001XX N STATE ST|        SEX OFFENSE|   27|\n",
      "|075XX S STONY ISL...|CRIM SEXUAL ASSAULT|   27|\n",
      "|  046XX N SIMONDS DR|        SEX OFFENSE|   26|\n",
      "|   048XX N MARINE DR|CRIM SEXUAL ASSAULT|   25|\n",
      "|     0000X W 95TH ST|        SEX OFFENSE|   25|\n",
      "|     003XX W 64TH ST|CRIM SEXUAL ASSAULT|   21|\n",
      "| 0000X W DIVISION ST|CRIM SEXUAL ASSAULT|   21|\n",
      "|0000X E ROOSEVELT RD|        SEX OFFENSE|   21|\n",
      "|065XX S DR MARTIN...|CRIM SEXUAL ASSAULT|   20|\n",
      "|064XX S DR MARTIN...|CRIM SEXUAL ASSAULT|   20|\n",
      "+--------------------+-------------------+-----+\n",
      "only showing top 20 rows\n",
      "\n"
     ]
    }
   ],
   "source": [
    "topBlock.filter(topBlock['PrimaryType'].like('%SEX%')).show()"
   ]
  },
  {
   "cell_type": "markdown",
   "metadata": {},
   "source": [
    "Let me set spark.sql.shuffle.partitions to 32 which is 200 by default. This number decides how many tasks will be created. You don't want to create 200 task in each use case. For this I think 32 is fine."
   ]
  },
  {
   "cell_type": "code",
   "execution_count": 25,
   "metadata": {},
   "outputs": [],
   "source": [
    "spark.conf.set('spark.sql.shuffle.partitions','32')"
   ]
  },
  {
   "cell_type": "markdown",
   "metadata": {},
   "source": [
    "Here I want to see which block made maximum arrests in each of crimes related to sexual offence."
   ]
  },
  {
   "cell_type": "code",
   "execution_count": 26,
   "metadata": {},
   "outputs": [
    {
     "name": "stdout",
     "output_type": "stream",
     "text": [
      "+-----------------------------------+-------------------+-----+------+------------------+\n",
      "|Block                              |PrimaryType        |Total|Arrest|ArrestPercentage  |\n",
      "+-----------------------------------+-------------------+-----+------+------------------+\n",
      "|046XX N SIMONDS DR                 |SEX OFFENSE        |26   |25    |96.15384615384616 |\n",
      "|044XX N SIMONDS DR                 |SEX OFFENSE        |76   |72    |94.73684210526315 |\n",
      "|002XX W MONTROSE HARBOR DR         |SEX OFFENSE        |17   |16    |94.11764705882352 |\n",
      "|052XX N CICERO AVE                 |SEX OFFENSE        |17   |15    |88.23529411764706 |\n",
      "|004XX S STATE ST                   |SEX OFFENSE        |58   |49    |84.48275862068965 |\n",
      "|003XX W MONTROSE HARBOR DR         |SEX OFFENSE        |27   |19    |70.37037037037037 |\n",
      "|009XX W BELMONT AVE                |SEX OFFENSE        |30   |19    |63.33333333333333 |\n",
      "|001XX N STATE ST                   |SEX OFFENSE        |27   |17    |62.96296296296296 |\n",
      "|076XX S CICERO AVE                 |SEX OFFENSE        |16   |10    |62.5              |\n",
      "|100XX W OHARE ST                   |SEX OFFENSE        |35   |20    |57.14285714285714 |\n",
      "|0000X E ROOSEVELT RD               |SEX OFFENSE        |21   |12    |57.14285714285714 |\n",
      "|016XX W HOWARD ST                  |SEX OFFENSE        |17   |9     |52.94117647058824 |\n",
      "|0000X W 95TH ST                    |SEX OFFENSE        |25   |12    |48.0              |\n",
      "|008XX E 103RD ST                   |SEX OFFENSE        |16   |7     |43.75             |\n",
      "|081XX S MAY ST                     |SEX OFFENSE        |16   |7     |43.75             |\n",
      "|001XX W LAKE ST                    |SEX OFFENSE        |19   |8     |42.10526315789473 |\n",
      "|011XX S HAMILTON AVE               |SEX OFFENSE        |35   |13    |37.142857142857146|\n",
      "|009XX W FULLERTON AVE              |SEX OFFENSE        |18   |4     |22.22222222222222 |\n",
      "|049XX W MADISON ST                 |CRIM SEXUAL ASSAULT|16   |3     |18.75             |\n",
      "|081XX S STONY ISLAND AVE           |CRIM SEXUAL ASSAULT|19   |3     |15.789473684210526|\n",
      "|065XX S DR MARTIN LUTHER KING JR DR|CRIM SEXUAL ASSAULT|20   |3     |15.0              |\n",
      "|063XX S DR MARTIN LUTHER KING JR DR|CRIM SEXUAL ASSAULT|30   |4     |13.333333333333334|\n",
      "|040XX W MADISON ST                 |CRIM SEXUAL ASSAULT|16   |2     |12.5              |\n",
      "|035XX S RHODES AVE                 |CRIM SEXUAL ASSAULT|17   |2     |11.76470588235294 |\n",
      "|012XX S DAMEN AVE                  |SEX OFFENSE        |44   |5     |11.363636363636363|\n",
      "|100XX S HALSTED ST                 |CRIM SEXUAL ASSAULT|19   |2     |10.526315789473683|\n",
      "|039XX S MICHIGAN AVE               |CRIM SEXUAL ASSAULT|19   |2     |10.526315789473683|\n",
      "|031XX W DOUGLAS BLVD               |SEX OFFENSE        |49   |5     |10.204081632653061|\n",
      "|0000X W DIVISION ST                |CRIM SEXUAL ASSAULT|21   |2     |9.523809523809524 |\n",
      "|048XX N MARINE DR                  |CRIM SEXUAL ASSAULT|25   |2     |8.0               |\n",
      "+-----------------------------------+-------------------+-----+------+------------------+\n",
      "only showing top 30 rows\n",
      "\n"
     ]
    }
   ],
   "source": [
    "topBlock.join(topBlockArrest, ['Block','PrimaryType']).filter(topBlock['PrimaryType'].like('%SEX%')).filter(topBlock['Total']>15).select('Block','PrimaryType','Total','Arrest', (F.col('Arrest')/F.col('Total')*100).alias('ArrestPercentage')).orderBy('ArrestPercentage',ascending=0).show(30,False)"
   ]
  },
  {
   "cell_type": "markdown",
   "metadata": {},
   "source": [
    "Next thing I want to find out is the months where maximum crime is reported over the years and see if there is something comman."
   ]
  },
  {
   "cell_type": "markdown",
   "metadata": {},
   "source": [
    "Import Window from pyspark.sql\n",
    "\n",
    "The reason we are using window here because we need to find month in each year where maximum number of crimes were reported.\n",
    "\n",
    "What I am going to do here is to group my data according to month and year and then count. Then I will find the rank of each month per year based on the maximum count. We will use rank() which is a windowing function.\n",
    "\n",
    "There must a different and/or better solution for this but as of now I know only this."
   ]
  },
  {
   "cell_type": "code",
   "execution_count": 27,
   "metadata": {},
   "outputs": [],
   "source": [
    "from pyspark.sql import Window"
   ]
  },
  {
   "cell_type": "code",
   "execution_count": 28,
   "metadata": {
    "scrolled": true
   },
   "outputs": [
    {
     "name": "stdout",
     "output_type": "stream",
     "text": [
      "+----+-----+-----+----+\n",
      "|Year|Month|Total|Rank|\n",
      "+----+-----+-----+----+\n",
      "|2001|    7|44690|   1|\n",
      "|2002|    7|46013|   1|\n",
      "|2003|    8|44264|   1|\n",
      "|2004|    7|43235|   1|\n",
      "|2005|    7|41804|   1|\n",
      "|2006|    7|41542|   1|\n",
      "|2007|    7|40986|   1|\n",
      "|2008|    8|40536|   1|\n",
      "|2009|    8|35819|   1|\n",
      "|2010|    8|34145|   1|\n",
      "|2011|    7|33242|   1|\n",
      "|2012|    7|31958|   1|\n",
      "|2013|    8|28630|   1|\n",
      "|2014|    7|26511|   1|\n",
      "|2015|    8|24743|   1|\n",
      "|2016|    8|24823|   1|\n",
      "|2017|    7|24723|   1|\n",
      "+----+-----+-----+----+\n",
      "\n"
     ]
    }
   ],
   "source": [
    "monthlyCount=crimeData.groupBy(F.month('ReportedTime').alias('Month'),F.year('ReportedTime').alias('Year')).agg(F.count('*').alias('Total')).select('Year','Month','Total',(F.rank().over(Window.partitionBy('Year').orderBy(F.col('Total').desc()))).alias('Rank'))\n",
    "monthlyCount.filter(monthlyCount['Rank'] ==1).orderBy('Year').show()"
   ]
  },
  {
   "cell_type": "code",
   "execution_count": 29,
   "metadata": {},
   "outputs": [
    {
     "name": "stdout",
     "output_type": "stream",
     "text": [
      "+----+-----+-----+----+\n",
      "|Year|Month|Total|Rank|\n",
      "+----+-----+-----+----+\n",
      "|2001|    7|44690|   1|\n",
      "|2001|    8|44032|   2|\n",
      "|2002|    7|46013|   1|\n",
      "|2002|    8|44210|   2|\n",
      "|2003|    8|44264|   1|\n",
      "|2003|    7|43415|   2|\n",
      "|2004|    7|43235|   1|\n",
      "|2004|    8|43044|   2|\n",
      "|2005|    7|41804|   1|\n",
      "|2005|    8|41541|   2|\n",
      "|2006|    7|41542|   1|\n",
      "|2006|    8|40493|   2|\n",
      "|2007|    7|40986|   1|\n",
      "|2007|    5|40084|   2|\n",
      "|2008|    8|40536|   1|\n",
      "|2008|    7|40483|   2|\n",
      "|2009|    8|35819|   1|\n",
      "|2009|    7|35668|   2|\n",
      "|2010|    8|34145|   1|\n",
      "|2010|    7|33507|   2|\n",
      "|2011|    7|33242|   1|\n",
      "|2011|    8|32576|   2|\n",
      "|2012|    7|31958|   1|\n",
      "|2012|    6|31066|   2|\n",
      "|2013|    8|28630|   1|\n",
      "|2013|    7|28605|   2|\n",
      "|2014|    7|26511|   1|\n",
      "|2014|    8|25837|   2|\n",
      "|2015|    8|24743|   1|\n",
      "|2015|    7|24158|   2|\n",
      "|2016|    8|24823|   1|\n",
      "|2016|    7|24786|   2|\n",
      "|2017|    7|24723|   1|\n",
      "|2017|    8|24591|   2|\n",
      "+----+-----+-----+----+\n",
      "\n"
     ]
    }
   ],
   "source": [
    "monthlyCount.filter(monthlyCount['Rank'] <=2).orderBy('Year','Rank').show(40)"
   ]
  },
  {
   "cell_type": "markdown",
   "metadata": {},
   "source": [
    "So month 7 and 8 are clear winner here."
   ]
  },
  {
   "cell_type": "markdown",
   "metadata": {},
   "source": [
    "# That's it for this notebook. I think we have covered many basic dataframe APIs. Of course there are more APIs, but once we know that basic we can play with others on our own.\n",
    "\n",
    "## Note:\n",
    "I am a newbie in apache spark. So this is what I have learned so far. My focus here was to show how we can use datafram APIs rather than writing optimized queries."
   ]
  }
 ],
 "metadata": {
  "kernelspec": {
   "display_name": "Python 2",
   "language": "python",
   "name": "python2"
  },
  "language_info": {
   "codemirror_mode": {
    "name": "ipython",
    "version": 2
   },
   "file_extension": ".py",
   "mimetype": "text/x-python",
   "name": "python",
   "nbconvert_exporter": "python",
   "pygments_lexer": "ipython2",
   "version": "2.7.14"
  }
 },
 "nbformat": 4,
 "nbformat_minor": 2
}
