{
 "cells": [
  {
   "cell_type": "markdown",
   "metadata": {},
   "source": [
    "# Converting Chicago crime data file from csv to parquet\n",
    "Data source: https://data.cityofchicago.org/Public-Safety/Crimes-2001-to-present/ijzp-q8t2/data\n",
    "\n",
    "The reason we are conveting this csv data to parquet is because parquet is much better format when it comes to both speed and space in hadoop world. Also if we are short on in-memory capacity and we can't cache too much data in that case as well reading and writing parquet file from disk is much efficient than csv both in terms of speed and cost."
   ]
  },
  {
   "cell_type": "markdown",
   "metadata": {},
   "source": [
    "Import SparkSession and various functions(we will use to_timestamp to convert string to timestamp)."
   ]
  },
  {
   "cell_type": "code",
   "execution_count": 1,
   "metadata": {},
   "outputs": [],
   "source": [
    "from pyspark.sql import SparkSession\n",
    "from pyspark.sql import functions as F"
   ]
  },
  {
   "cell_type": "markdown",
   "metadata": {},
   "source": [
    "Create SparkSession. Here I am using spark in standalone mode."
   ]
  },
  {
   "cell_type": "code",
   "execution_count": 2,
   "metadata": {},
   "outputs": [],
   "source": [
    "spark = SparkSession.builder.master(\"spark://localhost:7077\").appName(\"Chicago crime data analysis\").getOrCreate()"
   ]
  },
  {
   "cell_type": "markdown",
   "metadata": {},
   "source": [
    "Read data from hdfs using spark data source api. We are going to infer schema from file as well (This will take time as spark will read data. Better approach is to provide schema externally)."
   ]
  },
  {
   "cell_type": "code",
   "execution_count": 3,
   "metadata": {},
   "outputs": [],
   "source": [
    "crimeData = spark.read.csv(\"hdfs://localhost:9000/public/data/crime/crime.csv\", header=True, inferSchema = True)"
   ]
  },
  {
   "cell_type": "markdown",
   "metadata": {},
   "source": [
    "Print schema of the data"
   ]
  },
  {
   "cell_type": "code",
   "execution_count": 4,
   "metadata": {},
   "outputs": [
    {
     "name": "stdout",
     "output_type": "stream",
     "text": [
      "root\n",
      " |-- ID: integer (nullable = true)\n",
      " |-- Case Number: string (nullable = true)\n",
      " |-- Date: string (nullable = true)\n",
      " |-- Block: string (nullable = true)\n",
      " |-- IUCR: string (nullable = true)\n",
      " |-- Primary Type: string (nullable = true)\n",
      " |-- Description: string (nullable = true)\n",
      " |-- Location Description: string (nullable = true)\n",
      " |-- Arrest: boolean (nullable = true)\n",
      " |-- Domestic: boolean (nullable = true)\n",
      " |-- Beat: integer (nullable = true)\n",
      " |-- District: integer (nullable = true)\n",
      " |-- Ward: integer (nullable = true)\n",
      " |-- Community Area: integer (nullable = true)\n",
      " |-- FBI Code: string (nullable = true)\n",
      " |-- X Coordinate: integer (nullable = true)\n",
      " |-- Y Coordinate: integer (nullable = true)\n",
      " |-- Year: integer (nullable = true)\n",
      " |-- Updated On: string (nullable = true)\n",
      " |-- Latitude: double (nullable = true)\n",
      " |-- Longitude: double (nullable = true)\n",
      " |-- Location: string (nullable = true)\n",
      "\n"
     ]
    }
   ],
   "source": [
    "crimeData.printSchema()"
   ]
  },
  {
   "cell_type": "markdown",
   "metadata": {},
   "source": [
    "Show data"
   ]
  },
  {
   "cell_type": "code",
   "execution_count": 5,
   "metadata": {},
   "outputs": [
    {
     "name": "stdout",
     "output_type": "stream",
     "text": [
      "+--------+-----------+----------------------+----------------------+----+-------------+----------------------------+-----------------------+------+--------+----+--------+----+--------------+--------+------------+------------+----+----------------------+------------+-------------+-----------------------------+\n",
      "|ID      |Case Number|Date                  |Block                 |IUCR|Primary Type |Description                 |Location Description   |Arrest|Domestic|Beat|District|Ward|Community Area|FBI Code|X Coordinate|Y Coordinate|Year|Updated On            |Latitude    |Longitude    |Location                     |\n",
      "+--------+-----------+----------------------+----------------------+----+-------------+----------------------------+-----------------------+------+--------+----+--------+----+--------------+--------+------------+------------+----+----------------------+------------+-------------+-----------------------------+\n",
      "|10000092|HY189866   |03/18/2015 07:44:00 PM|047XX W OHIO ST       |041A|BATTERY      |AGGRAVATED: HANDGUN         |STREET                 |false |false   |1111|11      |28  |25            |04B     |1144606     |1903566     |2015|02/10/2018 03:50:01 PM|41.891398861|-87.744384567|(41.891398861, -87.744384567)|\n",
      "|10000094|HY190059   |03/18/2015 11:00:00 PM|066XX S MARSHFIELD AVE|4625|OTHER OFFENSE|PAROLE VIOLATION            |STREET                 |true  |false   |725 |7       |15  |67            |26      |1166468     |1860715     |2015|02/10/2018 03:50:01 PM|41.773371528|-87.665319468|(41.773371528, -87.665319468)|\n",
      "|10000095|HY190052   |03/18/2015 10:45:00 PM|044XX S LAKE PARK AVE |0486|BATTERY      |DOMESTIC BATTERY SIMPLE     |APARTMENT              |false |true    |222 |2       |4   |39            |08B     |1185075     |1875622     |2015|02/10/2018 03:50:01 PM|41.81386068 |-87.596642837|(41.81386068, -87.596642837) |\n",
      "|10000096|HY190054   |03/18/2015 10:30:00 PM|051XX S MICHIGAN AVE  |0460|BATTERY      |SIMPLE                      |APARTMENT              |false |false   |225 |2       |3   |40            |08B     |1178033     |1870804     |2015|02/10/2018 03:50:01 PM|41.800802415|-87.622619343|(41.800802415, -87.622619343)|\n",
      "|10000097|HY189976   |03/18/2015 09:00:00 PM|047XX W ADAMS ST      |031A|ROBBERY      |ARMED: HANDGUN              |SIDEWALK               |false |false   |1113|11      |28  |25            |03      |1144920     |1898709     |2015|02/10/2018 03:50:01 PM|41.878064761|-87.743354013|(41.878064761, -87.743354013)|\n",
      "|10000098|HY190032   |03/18/2015 10:00:00 PM|049XX S DREXEL BLVD   |0460|BATTERY      |SIMPLE                      |APARTMENT              |false |false   |223 |2       |4   |39            |08B     |1183018     |1872537     |2015|02/10/2018 03:50:01 PM|41.805443345|-87.604283976|(41.805443345, -87.604283976)|\n",
      "|10000099|HY190047   |03/18/2015 11:00:00 PM|070XX S MORGAN ST     |0486|BATTERY      |DOMESTIC BATTERY SIMPLE     |APARTMENT              |false |true    |733 |7       |17  |68            |08B     |1170859     |1858210     |2015|02/10/2018 03:50:01 PM|41.766402779|-87.649296123|(41.766402779, -87.649296123)|\n",
      "|10000100|HY189988   |03/18/2015 09:35:00 PM|042XX S PRAIRIE AVE   |0486|BATTERY      |DOMESTIC BATTERY SIMPLE     |APARTMENT              |false |true    |213 |2       |3   |38            |08B     |1178746     |1876914     |2015|02/10/2018 03:50:01 PM|41.817552577|-87.619818523|(41.817552577, -87.619818523)|\n",
      "|10000101|HY190020   |03/18/2015 10:09:00 PM|036XX S WOLCOTT AVE   |1811|NARCOTICS    |POSS: CANNABIS 30GMS OR LESS|STREET                 |true  |false   |912 |9       |11  |59            |18      |1164279     |1880656     |2015|02/10/2018 03:50:01 PM|41.828138428|-87.672782106|(41.828138428, -87.672782106)|\n",
      "|10000104|HY189964   |03/18/2015 09:25:00 PM|097XX S PRAIRIE AVE   |0460|BATTERY      |SIMPLE                      |RESIDENCE PORCH/HALLWAY|false |false   |511 |5       |6   |49            |08B     |1179637     |1840444     |2015|02/10/2018 03:50:01 PM|41.71745472 |-87.617663257|(41.71745472, -87.617663257) |\n",
      "+--------+-----------+----------------------+----------------------+----+-------------+----------------------------+-----------------------+------+--------+----+--------+----+--------------+--------+------------+------------+----+----------------------+------------+-------------+-----------------------------+\n",
      "only showing top 10 rows\n",
      "\n"
     ]
    }
   ],
   "source": [
    "crimeData.show(10,False)"
   ]
  },
  {
   "cell_type": "markdown",
   "metadata": {},
   "source": [
    "Change columns Date and Updated On from string to timestamp and drop duplicate columns like Year, Location etc."
   ]
  },
  {
   "cell_type": "code",
   "execution_count": 6,
   "metadata": {},
   "outputs": [],
   "source": [
    "crimeData = crimeData.withColumn('ReportedTime',F.to_timestamp('Date','MM/dd/yyyy hh:mm:ss aaa')).withColumn('UpdatedTime',F.to_timestamp('Updated On','MM/dd/yyyy hh:mm:ss aaa')).drop('Date', 'Updated On', 'Year', 'Location')"
   ]
  },
  {
   "cell_type": "code",
   "execution_count": 7,
   "metadata": {},
   "outputs": [
    {
     "name": "stdout",
     "output_type": "stream",
     "text": [
      "+--------+-----------+----------------------+----+-------------+----------------------------+-----------------------+------+--------+----+--------+----+--------------+--------+------------+------------+------------+-------------+-------------------+-------------------+\n",
      "|ID      |Case Number|Block                 |IUCR|Primary Type |Description                 |Location Description   |Arrest|Domestic|Beat|District|Ward|Community Area|FBI Code|X Coordinate|Y Coordinate|Latitude    |Longitude    |ReportedTime       |UpdatedTime        |\n",
      "+--------+-----------+----------------------+----+-------------+----------------------------+-----------------------+------+--------+----+--------+----+--------------+--------+------------+------------+------------+-------------+-------------------+-------------------+\n",
      "|10000092|HY189866   |047XX W OHIO ST       |041A|BATTERY      |AGGRAVATED: HANDGUN         |STREET                 |false |false   |1111|11      |28  |25            |04B     |1144606     |1903566     |41.891398861|-87.744384567|2015-03-18 19:44:00|2018-02-10 15:50:01|\n",
      "|10000094|HY190059   |066XX S MARSHFIELD AVE|4625|OTHER OFFENSE|PAROLE VIOLATION            |STREET                 |true  |false   |725 |7       |15  |67            |26      |1166468     |1860715     |41.773371528|-87.665319468|2015-03-18 23:00:00|2018-02-10 15:50:01|\n",
      "|10000095|HY190052   |044XX S LAKE PARK AVE |0486|BATTERY      |DOMESTIC BATTERY SIMPLE     |APARTMENT              |false |true    |222 |2       |4   |39            |08B     |1185075     |1875622     |41.81386068 |-87.596642837|2015-03-18 22:45:00|2018-02-10 15:50:01|\n",
      "|10000096|HY190054   |051XX S MICHIGAN AVE  |0460|BATTERY      |SIMPLE                      |APARTMENT              |false |false   |225 |2       |3   |40            |08B     |1178033     |1870804     |41.800802415|-87.622619343|2015-03-18 22:30:00|2018-02-10 15:50:01|\n",
      "|10000097|HY189976   |047XX W ADAMS ST      |031A|ROBBERY      |ARMED: HANDGUN              |SIDEWALK               |false |false   |1113|11      |28  |25            |03      |1144920     |1898709     |41.878064761|-87.743354013|2015-03-18 21:00:00|2018-02-10 15:50:01|\n",
      "|10000098|HY190032   |049XX S DREXEL BLVD   |0460|BATTERY      |SIMPLE                      |APARTMENT              |false |false   |223 |2       |4   |39            |08B     |1183018     |1872537     |41.805443345|-87.604283976|2015-03-18 22:00:00|2018-02-10 15:50:01|\n",
      "|10000099|HY190047   |070XX S MORGAN ST     |0486|BATTERY      |DOMESTIC BATTERY SIMPLE     |APARTMENT              |false |true    |733 |7       |17  |68            |08B     |1170859     |1858210     |41.766402779|-87.649296123|2015-03-18 23:00:00|2018-02-10 15:50:01|\n",
      "|10000100|HY189988   |042XX S PRAIRIE AVE   |0486|BATTERY      |DOMESTIC BATTERY SIMPLE     |APARTMENT              |false |true    |213 |2       |3   |38            |08B     |1178746     |1876914     |41.817552577|-87.619818523|2015-03-18 21:35:00|2018-02-10 15:50:01|\n",
      "|10000101|HY190020   |036XX S WOLCOTT AVE   |1811|NARCOTICS    |POSS: CANNABIS 30GMS OR LESS|STREET                 |true  |false   |912 |9       |11  |59            |18      |1164279     |1880656     |41.828138428|-87.672782106|2015-03-18 22:09:00|2018-02-10 15:50:01|\n",
      "|10000104|HY189964   |097XX S PRAIRIE AVE   |0460|BATTERY      |SIMPLE                      |RESIDENCE PORCH/HALLWAY|false |false   |511 |5       |6   |49            |08B     |1179637     |1840444     |41.71745472 |-87.617663257|2015-03-18 21:25:00|2018-02-10 15:50:01|\n",
      "+--------+-----------+----------------------+----+-------------+----------------------------+-----------------------+------+--------+----+--------+----+--------------+--------+------------+------------+------------+-------------+-------------------+-------------------+\n",
      "only showing top 10 rows\n",
      "\n"
     ]
    }
   ],
   "source": [
    "crimeData.show(10, False)"
   ]
  },
  {
   "cell_type": "code",
   "execution_count": 8,
   "metadata": {},
   "outputs": [
    {
     "name": "stdout",
     "output_type": "stream",
     "text": [
      "root\n",
      " |-- ID: integer (nullable = true)\n",
      " |-- Case Number: string (nullable = true)\n",
      " |-- Block: string (nullable = true)\n",
      " |-- IUCR: string (nullable = true)\n",
      " |-- Primary Type: string (nullable = true)\n",
      " |-- Description: string (nullable = true)\n",
      " |-- Location Description: string (nullable = true)\n",
      " |-- Arrest: boolean (nullable = true)\n",
      " |-- Domestic: boolean (nullable = true)\n",
      " |-- Beat: integer (nullable = true)\n",
      " |-- District: integer (nullable = true)\n",
      " |-- Ward: integer (nullable = true)\n",
      " |-- Community Area: integer (nullable = true)\n",
      " |-- FBI Code: string (nullable = true)\n",
      " |-- X Coordinate: integer (nullable = true)\n",
      " |-- Y Coordinate: integer (nullable = true)\n",
      " |-- Latitude: double (nullable = true)\n",
      " |-- Longitude: double (nullable = true)\n",
      " |-- ReportedTime: timestamp (nullable = true)\n",
      " |-- UpdatedTime: timestamp (nullable = true)\n",
      "\n"
     ]
    }
   ],
   "source": [
    "crimeData.printSchema()"
   ]
  },
  {
   "cell_type": "markdown",
   "metadata": {},
   "source": [
    "Rename columns to remove spaces"
   ]
  },
  {
   "cell_type": "code",
   "execution_count": 9,
   "metadata": {},
   "outputs": [],
   "source": [
    "crimeData = crimeData.withColumnRenamed('Case Number', 'CaseNumber').withColumnRenamed('Primary Type', 'PrimaryType').withColumnRenamed('Location Description','LocationDescription').withColumnRenamed('Community Area','CommunityArea').withColumnRenamed('FBI Code','FBICode').withColumnRenamed('X Coordinate','XCoordinate').withColumnRenamed('Y Coordinate','YCoordinate')"
   ]
  },
  {
   "cell_type": "code",
   "execution_count": 10,
   "metadata": {},
   "outputs": [
    {
     "name": "stdout",
     "output_type": "stream",
     "text": [
      "+--------+----------+----------------------+----+-------------+----------------------------+-----------------------+------+--------+----+--------+----+-------------+-------+-----------+-----------+------------+-------------+-------------------+-------------------+\n",
      "|ID      |CaseNumber|Block                 |IUCR|PrimaryType  |Description                 |LocationDescription    |Arrest|Domestic|Beat|District|Ward|CommunityArea|FBICode|XCoordinate|YCoordinate|Latitude    |Longitude    |ReportedTime       |UpdatedTime        |\n",
      "+--------+----------+----------------------+----+-------------+----------------------------+-----------------------+------+--------+----+--------+----+-------------+-------+-----------+-----------+------------+-------------+-------------------+-------------------+\n",
      "|10000092|HY189866  |047XX W OHIO ST       |041A|BATTERY      |AGGRAVATED: HANDGUN         |STREET                 |false |false   |1111|11      |28  |25           |04B    |1144606    |1903566    |41.891398861|-87.744384567|2015-03-18 19:44:00|2018-02-10 15:50:01|\n",
      "|10000094|HY190059  |066XX S MARSHFIELD AVE|4625|OTHER OFFENSE|PAROLE VIOLATION            |STREET                 |true  |false   |725 |7       |15  |67           |26     |1166468    |1860715    |41.773371528|-87.665319468|2015-03-18 23:00:00|2018-02-10 15:50:01|\n",
      "|10000095|HY190052  |044XX S LAKE PARK AVE |0486|BATTERY      |DOMESTIC BATTERY SIMPLE     |APARTMENT              |false |true    |222 |2       |4   |39           |08B    |1185075    |1875622    |41.81386068 |-87.596642837|2015-03-18 22:45:00|2018-02-10 15:50:01|\n",
      "|10000096|HY190054  |051XX S MICHIGAN AVE  |0460|BATTERY      |SIMPLE                      |APARTMENT              |false |false   |225 |2       |3   |40           |08B    |1178033    |1870804    |41.800802415|-87.622619343|2015-03-18 22:30:00|2018-02-10 15:50:01|\n",
      "|10000097|HY189976  |047XX W ADAMS ST      |031A|ROBBERY      |ARMED: HANDGUN              |SIDEWALK               |false |false   |1113|11      |28  |25           |03     |1144920    |1898709    |41.878064761|-87.743354013|2015-03-18 21:00:00|2018-02-10 15:50:01|\n",
      "|10000098|HY190032  |049XX S DREXEL BLVD   |0460|BATTERY      |SIMPLE                      |APARTMENT              |false |false   |223 |2       |4   |39           |08B    |1183018    |1872537    |41.805443345|-87.604283976|2015-03-18 22:00:00|2018-02-10 15:50:01|\n",
      "|10000099|HY190047  |070XX S MORGAN ST     |0486|BATTERY      |DOMESTIC BATTERY SIMPLE     |APARTMENT              |false |true    |733 |7       |17  |68           |08B    |1170859    |1858210    |41.766402779|-87.649296123|2015-03-18 23:00:00|2018-02-10 15:50:01|\n",
      "|10000100|HY189988  |042XX S PRAIRIE AVE   |0486|BATTERY      |DOMESTIC BATTERY SIMPLE     |APARTMENT              |false |true    |213 |2       |3   |38           |08B    |1178746    |1876914    |41.817552577|-87.619818523|2015-03-18 21:35:00|2018-02-10 15:50:01|\n",
      "|10000101|HY190020  |036XX S WOLCOTT AVE   |1811|NARCOTICS    |POSS: CANNABIS 30GMS OR LESS|STREET                 |true  |false   |912 |9       |11  |59           |18     |1164279    |1880656    |41.828138428|-87.672782106|2015-03-18 22:09:00|2018-02-10 15:50:01|\n",
      "|10000104|HY189964  |097XX S PRAIRIE AVE   |0460|BATTERY      |SIMPLE                      |RESIDENCE PORCH/HALLWAY|false |false   |511 |5       |6   |49           |08B    |1179637    |1840444    |41.71745472 |-87.617663257|2015-03-18 21:25:00|2018-02-10 15:50:01|\n",
      "+--------+----------+----------------------+----+-------------+----------------------------+-----------------------+------+--------+----+--------+----+-------------+-------+-----------+-----------+------------+-------------+-------------------+-------------------+\n",
      "only showing top 10 rows\n",
      "\n"
     ]
    }
   ],
   "source": [
    "crimeData.show(10,False)"
   ]
  },
  {
   "cell_type": "markdown",
   "metadata": {},
   "source": [
    "Write data as parquet file to hdfs using only one partition (We don't really need to write as only one partition but I wanted to use coalesce)"
   ]
  },
  {
   "cell_type": "code",
   "execution_count": 15,
   "metadata": {},
   "outputs": [],
   "source": [
    "crimeData.coalesce(1).write.parquet(\"hdfs://localhost:9000/public/data/crime/parquet/\")"
   ]
  }
 ],
 "metadata": {
  "kernelspec": {
   "display_name": "Python 2",
   "language": "python",
   "name": "python2"
  },
  "language_info": {
   "codemirror_mode": {
    "name": "ipython",
    "version": 2
   },
   "file_extension": ".py",
   "mimetype": "text/x-python",
   "name": "python",
   "nbconvert_exporter": "python",
   "pygments_lexer": "ipython2",
   "version": "2.7.14"
  }
 },
 "nbformat": 4,
 "nbformat_minor": 2
}
